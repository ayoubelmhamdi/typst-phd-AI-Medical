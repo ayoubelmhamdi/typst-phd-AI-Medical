{
 "cells": [
  {
   "cell_type": "markdown",
   "id": "66b14c82-20a3-4d8c-a2d8-4a62dc7cf082",
   "metadata": {
    "tags": []
   },
   "source": [
    "# INTRO to Python"
   ]
  },
  {
   "cell_type": "markdown",
   "id": "5cece92b-0c73-41c3-a066-1840f165f7c5",
   "metadata": {
    "tags": []
   },
   "source": [
    "## definiton"
   ]
  },
  {
   "cell_type": "code",
   "execution_count": 8,
   "id": "2888e15c-4afc-4037-b3c1-cf24781ff2f8",
   "metadata": {
    "tags": []
   },
   "outputs": [
    {
     "data": {
      "text/plain": [
       "6"
      ]
     },
     "execution_count": 8,
     "metadata": {},
     "output_type": "execute_result"
    }
   ],
   "source": [
    "x=1+2+3\n",
    "x"
   ]
  },
  {
   "cell_type": "code",
   "execution_count": 9,
   "id": "15c00bd0-c5de-4eff-914f-41cdc690f64f",
   "metadata": {
    "tags": []
   },
   "outputs": [],
   "source": [
    "y=9"
   ]
  },
  {
   "cell_type": "code",
   "execution_count": 10,
   "id": "46c5a185-5279-4d42-9fde-d0d61dd24669",
   "metadata": {
    "tags": []
   },
   "outputs": [
    {
     "name": "stdout",
     "output_type": "stream",
     "text": [
      "Nabil 15\n"
     ]
    }
   ],
   "source": [
    "print(f\"Nabil {x+y}\")"
   ]
  },
  {
   "cell_type": "code",
   "execution_count": null,
   "id": "848c50ae-b5e7-4405-83d6-e1135cadedd0",
   "metadata": {},
   "outputs": [],
   "source": []
  },
  {
   "cell_type": "code",
   "execution_count": null,
   "id": "2870cc0d-9221-4c9f-9d12-05c6737f3a6c",
   "metadata": {},
   "outputs": [],
   "source": []
  },
  {
   "cell_type": "code",
   "execution_count": null,
   "id": "06e86c1f-a281-4a1d-86b4-402cfda39946",
   "metadata": {},
   "outputs": [],
   "source": []
  },
  {
   "cell_type": "code",
   "execution_count": null,
   "id": "eacfc06c-6cd4-4b3a-beb7-b1ba99f2cf86",
   "metadata": {},
   "outputs": [],
   "source": []
  },
  {
   "cell_type": "code",
   "execution_count": null,
   "id": "a50d1692-16cf-42fd-9ba8-2476e0ab23f2",
   "metadata": {},
   "outputs": [],
   "source": []
  },
  {
   "cell_type": "code",
   "execution_count": null,
   "id": "13f21ec7-1aaa-4be2-8b57-1b78da57cb37",
   "metadata": {},
   "outputs": [],
   "source": []
  },
  {
   "cell_type": "code",
   "execution_count": null,
   "id": "b0ea5560-aaf1-4a1a-ac79-8bd404626b46",
   "metadata": {},
   "outputs": [],
   "source": []
  },
  {
   "cell_type": "code",
   "execution_count": null,
   "id": "c684c599-cd99-45c0-b052-24725ea85800",
   "metadata": {},
   "outputs": [],
   "source": []
  },
  {
   "cell_type": "code",
   "execution_count": null,
   "id": "5be6d8e0-3ad5-4aae-b2a0-c3b5121b626f",
   "metadata": {},
   "outputs": [],
   "source": []
  },
  {
   "cell_type": "code",
   "execution_count": null,
   "id": "2d3cb635-51ca-4697-9674-68c40173aba2",
   "metadata": {},
   "outputs": [],
   "source": []
  },
  {
   "cell_type": "code",
   "execution_count": null,
   "id": "83cf5e01-9d7c-4a95-935c-7e2fd9ad5833",
   "metadata": {},
   "outputs": [],
   "source": []
  },
  {
   "cell_type": "code",
   "execution_count": null,
   "id": "74f6f4c4-1bf9-4ad9-9baa-447a2bb7e559",
   "metadata": {},
   "outputs": [],
   "source": []
  },
  {
   "cell_type": "code",
   "execution_count": null,
   "id": "f729cb8f-fb65-48a5-ad05-bbc85acc9f9b",
   "metadata": {},
   "outputs": [],
   "source": []
  },
  {
   "cell_type": "code",
   "execution_count": null,
   "id": "18ac41db-12de-409a-960d-1b44f3d19ba4",
   "metadata": {},
   "outputs": [],
   "source": []
  },
  {
   "cell_type": "code",
   "execution_count": null,
   "id": "369a5a41-7443-4988-85f0-cb2608cab26e",
   "metadata": {},
   "outputs": [],
   "source": []
  },
  {
   "cell_type": "code",
   "execution_count": null,
   "id": "3c3a0c07-1e21-4ea0-892f-a26f74390ae2",
   "metadata": {},
   "outputs": [],
   "source": []
  },
  {
   "cell_type": "code",
   "execution_count": null,
   "id": "ca2b29c2-fba1-4659-89f3-91087aa27829",
   "metadata": {},
   "outputs": [],
   "source": []
  },
  {
   "cell_type": "code",
   "execution_count": null,
   "id": "4774ff27-b5b4-4377-89a6-98ab97268a13",
   "metadata": {},
   "outputs": [],
   "source": []
  }
 ],
 "metadata": {
  "kernelspec": {
   "display_name": "Python 3 (ipykernel)",
   "language": "python",
   "name": "python3"
  },
  "language_info": {
   "codemirror_mode": {
    "name": "ipython",
    "version": 3
   },
   "file_extension": ".py",
   "mimetype": "text/x-python",
   "name": "python",
   "nbconvert_exporter": "python",
   "pygments_lexer": "ipython3",
   "version": "3.10.9"
  }
 },
 "nbformat": 4,
 "nbformat_minor": 5
}
