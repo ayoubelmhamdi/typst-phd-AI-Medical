{
 "cells": [
  {
   "cell_type": "code",
   "execution_count": 1,
   "id": "72260a39",
   "metadata": {
    "execution": {
     "iopub.execute_input": "2023-05-25T01:26:31.943930Z",
     "iopub.status.busy": "2023-05-25T01:26:31.943404Z",
     "iopub.status.idle": "2023-05-25T01:26:31.998672Z",
     "shell.execute_reply": "2023-05-25T01:26:31.997533Z"
    },
    "papermill": {
     "duration": 0.066019,
     "end_time": "2023-05-25T01:26:32.002768",
     "exception": false,
     "start_time": "2023-05-25T01:26:31.936749",
     "status": "completed"
    },
    "tags": []
   },
   "outputs": [],
   "source": [
    "%%sh\n",
    "mkdir -p /kaggle/working/luna16/\n",
    "\n",
    "ln -s /kaggle/input/luna16/annotations.csv        /kaggle/working/luna16/annotations.csv\n",
    "ln -s /kaggle/input/luna16/candidates.csv         /kaggle/working/luna16/candidates.csv\n",
    "ln -s /kaggle/input/luna16/candidates_V2          /kaggle/working/luna16/candidates_V2\n",
    "ln -s /kaggle/input/luna16/evaluationScript       /kaggle/working/luna16/evaluationScript\n",
    "ln -s /kaggle/input/luna16/sampleSubmission.csv   /kaggle/working/luna16/sampleSubmission.csv\n",
    "ln -s /kaggle/input/luna16/seg-lungs-LUNA16       /kaggle/working/luna16/seg-lungs-LUNA16\n",
    "ln -s /kaggle/input/luna16/subset0                /kaggle/working/luna16/subset0\n",
    "ln -s /kaggle/input/luna16/subset1                /kaggle/working/luna16/subset1\n",
    "ln -s /kaggle/input/luna16/subset2                /kaggle/working/luna16/subset2\n",
    "ln -s /kaggle/input/luna16/subset3                /kaggle/working/luna16/subset3\n",
    "ln -s /kaggle/input/luna16/subset4                /kaggle/working/luna16/subset4\n",
    "\n",
    "cd /kaggle/working/luna16\n",
    "\n",
    "ln -s /kaggle/input/luna-subset5 ./subset5\n",
    "ln -s /kaggle/input/luna-subset6 ./subset6\n",
    "ln -s /kaggle/input/luna-subset7 ./subset7\n",
    "ln -s /kaggle/input/luna-subset8 ./subset8\n",
    "ln -s /kaggle/input/luna-subset9 ./subset9"
   ]
  },
  {
   "cell_type": "code",
   "execution_count": 2,
   "id": "b96cb3ce",
   "metadata": {
    "execution": {
     "iopub.execute_input": "2023-05-25T01:26:32.018144Z",
     "iopub.status.busy": "2023-05-25T01:26:32.017638Z",
     "iopub.status.idle": "2023-05-25T01:26:32.038152Z",
     "shell.execute_reply": "2023-05-25T01:26:32.037117Z"
    },
    "papermill": {
     "duration": 0.033788,
     "end_time": "2023-05-25T01:26:32.041364",
     "exception": false,
     "start_time": "2023-05-25T01:26:32.007576",
     "status": "completed"
    },
    "tags": []
   },
   "outputs": [
    {
     "name": "stdout",
     "output_type": "stream",
     "text": [
      "luna-subset5\n",
      "luna-subset6\n",
      "luna-subset7\n",
      "luna-subset8\n",
      "luna-subset9\n",
      "luna16\n"
     ]
    }
   ],
   "source": [
    "%%sh\n",
    "#ls /kaggle/input/luna16/subset0/subset0\n",
    "ls /kaggle/input"
   ]
  },
  {
   "cell_type": "code",
   "execution_count": 3,
   "id": "ff641ee2",
   "metadata": {
    "execution": {
     "iopub.execute_input": "2023-05-25T01:26:32.049405Z",
     "iopub.status.busy": "2023-05-25T01:26:32.048865Z",
     "iopub.status.idle": "2023-05-25T01:26:32.129607Z",
     "shell.execute_reply": "2023-05-25T01:26:32.128107Z"
    },
    "papermill": {
     "duration": 0.089987,
     "end_time": "2023-05-25T01:26:32.134339",
     "exception": false,
     "start_time": "2023-05-25T01:26:32.044352",
     "status": "completed"
    },
    "tags": []
   },
   "outputs": [
    {
     "name": "stdout",
     "output_type": "stream",
     "text": [
      "1.3.6.1.4.1.14519.5.2.1.6279.6001.725236073737175770730904408416.mhd\n",
      "1.3.6.1.4.1.14519.5.2.1.6279.6001.725236073737175770730904408416.raw\n",
      "1.3.6.1.4.1.14519.5.2.1.6279.6001.803987517543436570820681016103.mhd\n",
      "1.3.6.1.4.1.14519.5.2.1.6279.6001.803987517543436570820681016103.raw\n",
      "1.3.6.1.4.1.14519.5.2.1.6279.6001.877026508860018521147620598474.mhd\n",
      "1.3.6.1.4.1.14519.5.2.1.6279.6001.877026508860018521147620598474.raw\n",
      "1.3.6.1.4.1.14519.5.2.1.6279.6001.948414623428298219623354433437.mhd\n",
      "1.3.6.1.4.1.14519.5.2.1.6279.6001.948414623428298219623354433437.raw\n",
      "1.3.6.1.4.1.14519.5.2.1.6279.6001.955688628308192728558382581802.mhd\n",
      "1.3.6.1.4.1.14519.5.2.1.6279.6001.955688628308192728558382581802.raw\n"
     ]
    }
   ],
   "source": [
    "%%sh\n",
    "#ls /kaggle/input/luna-subset5 -al\n",
    "ls /kaggle/working/luna16/subset6/subset6 | tail "
   ]
  },
  {
   "cell_type": "code",
   "execution_count": null,
   "id": "49652383",
   "metadata": {
    "papermill": {
     "duration": 0.004094,
     "end_time": "2023-05-25T01:26:32.142888",
     "exception": false,
     "start_time": "2023-05-25T01:26:32.138794",
     "status": "completed"
    },
    "tags": []
   },
   "outputs": [],
   "source": []
  }
 ],
 "metadata": {
  "kernelspec": {
   "display_name": "Python 3",
   "language": "python",
   "name": "python3"
  },
  "language_info": {
   "codemirror_mode": {
    "name": "ipython",
    "version": 3
   },
   "file_extension": ".py",
   "mimetype": "text/x-python",
   "name": "python",
   "nbconvert_exporter": "python",
   "pygments_lexer": "ipython3",
   "version": "3.10.10"
  },
  "papermill": {
   "default_parameters": {},
   "duration": 14.209109,
   "end_time": "2023-05-25T01:26:33.373946",
   "environment_variables": {},
   "exception": null,
   "input_path": "__notebook__.ipynb",
   "output_path": "__notebook__.ipynb",
   "parameters": {},
   "start_time": "2023-05-25T01:26:19.164837",
   "version": "2.4.0"
  }
 },
 "nbformat": 4,
 "nbformat_minor": 5
}
